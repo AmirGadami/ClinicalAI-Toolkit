{
 "cells": [
  {
   "cell_type": "code",
   "execution_count": 1,
   "metadata": {},
   "outputs": [
    {
     "name": "stdout",
     "output_type": "stream",
     "text": [
      "ROOT JUST ADDED\n"
     ]
    }
   ],
   "source": [
    "import pandas as pd\n",
    "import numpy as np\n",
    "import os\n",
    "import json\n",
    "import sys\n",
    "\n",
    "\n",
    "PATH_ROOT  = os.path.dirname(os.path.abspath(os.getcwd()))\n",
    "\n",
    "if PATH_ROOT not in sys.path:\n",
    "    sys.path.append(PATH_ROOT)\n",
    "    print(\"ROOT JUST ADDED\")\n",
    "\n"
   ]
  },
  {
   "cell_type": "code",
   "execution_count": 2,
   "metadata": {},
   "outputs": [
    {
     "name": "stdout",
     "output_type": "stream",
     "text": [
      "/Users/amir/Desktop/GitHub/ClinicalAI-Toolkit\n"
     ]
    }
   ],
   "source": [
    "print(PATH_ROOT)"
   ]
  },
  {
   "cell_type": "code",
   "execution_count": 3,
   "metadata": {},
   "outputs": [],
   "source": [
    "def read_data(file_path: str) -> pd.DataFrame:\n",
    "    \"\"\"\n",
    "    Reads data from a CSV or JSON file.\n",
    "\n",
    "    Args:\n",
    "        file_path (str): Path to the data file.\n",
    "\n",
    "    Returns:\n",
    "        pd.DataFrame: A DataFrame containing the data.\n",
    "    \"\"\"\n",
    "\n",
    "    if not os.path.exists(file_path):\n",
    "        raise FileExistsError(f\"The file {file_path} does not exist\")\n",
    "    if file_path.endswith(\".csv\"):\n",
    "        return pd.read_csv(file_path)\n",
    "    elif file_path.endswith(\".json\"):\n",
    "        with open(file_path,'r') as f:\n",
    "            data = json.load(f)\n",
    "        return pd.DataFrame(data)\n",
    "    else:\n",
    "        raise ValueError(\"Unsupported file format. Please provide a csv or json file.\")\n",
    "\n",
    "    "
   ]
  },
  {
   "cell_type": "code",
   "execution_count": 17,
   "metadata": {},
   "outputs": [
    {
     "name": "stdout",
     "output_type": "stream",
     "text": [
      "/Users/amir/Desktop/GitHub/ClinicalAI-Toolkit/datasets/raw/Medical_data.json\n"
     ]
    }
   ],
   "source": [
    "from config import RAW_DATA_DIR, DATASET_NAME\n",
    "data_dir = os.path.join(RAW_DATA_DIR,DATASET_NAME)\n",
    "\n",
    "print(data_dir)\n",
    "data = read_data(data_dir)"
   ]
  },
  {
   "cell_type": "code",
   "execution_count": 18,
   "metadata": {},
   "outputs": [
    {
     "data": {
      "text/plain": [
       "(99999, 6)"
      ]
     },
     "execution_count": 18,
     "metadata": {},
     "output_type": "execute_result"
    }
   ],
   "source": [
    "data.shape"
   ]
  },
  {
   "cell_type": "code",
   "execution_count": 19,
   "metadata": {},
   "outputs": [
    {
     "data": {
      "text/plain": [
       "id               0\n",
       "patient_info     0\n",
       "clinical_note    0\n",
       "annotations      0\n",
       "questions        0\n",
       "summary          0\n",
       "dtype: int64"
      ]
     },
     "execution_count": 19,
     "metadata": {},
     "output_type": "execute_result"
    }
   ],
   "source": [
    "data.isna().sum()"
   ]
  },
  {
   "cell_type": "code",
   "execution_count": 20,
   "metadata": {},
   "outputs": [],
   "source": [
    "labels_col = pd.json_normalize(data['annotations'])"
   ]
  },
  {
   "cell_type": "code",
   "execution_count": 8,
   "metadata": {},
   "outputs": [
    {
     "name": "stdout",
     "output_type": "stream",
     "text": [
      "['low-risk', 'high-risk', 'moderate-risk']\n",
      "['neutral', 'negative', 'positive']\n",
      "classification\n",
      "high-risk        33388\n",
      "moderate-risk    33322\n",
      "low-risk         33289\n",
      "Name: count, dtype: int64\n",
      "sentiment\n",
      "negative    33431\n",
      "neutral     33296\n",
      "positive    33272\n",
      "Name: count, dtype: int64\n"
     ]
    },
    {
     "name": "stderr",
     "output_type": "stream",
     "text": [
      "/Users/amir/Desktop/GitHub/ClinicalAI-Toolkit/venv/lib/python3.9/site-packages/numpy/_core/fromnumeric.py:84: FutureWarning: The behavior of DataFrame.sum with axis=None is deprecated, in a future version this will reduce over both axes and return a scalar. To retain the old behavior, pass axis=0 (or do not pass axis)\n",
      "  return reduction(axis=axis, out=out, **passkwargs)\n"
     ]
    }
   ],
   "source": [
    "labels_col = pd.json_normalize(data['annotations'])\n",
    "print(labels_col['classification'].unique().tolist())\n",
    "print(labels_col['sentiment'].unique().tolist())\n",
    "print(labels_col['classification'].value_counts())\n",
    "print(labels_col['sentiment'].value_counts())\n",
    "np.sum(labels_col.isna())\n",
    "labels_col = labels_col.reset_index(drop=True)\n",
    "\n",
    "data['clasification'] = labels_col['classification']"
   ]
  },
  {
   "cell_type": "code",
   "execution_count": 22,
   "metadata": {},
   "outputs": [],
   "source": [
    "data.head()\n",
    "# data[labels_col.columns()]\n",
    "data[labels_col.columns] = labels_col"
   ]
  },
  {
   "cell_type": "code",
   "execution_count": 23,
   "metadata": {},
   "outputs": [],
   "source": [
    "\n",
    "data.drop(columns=['annotations'],inplace=True)\n"
   ]
  },
  {
   "cell_type": "code",
   "execution_count": 24,
   "metadata": {},
   "outputs": [
    {
     "data": {
      "text/html": [
       "<div>\n",
       "<style scoped>\n",
       "    .dataframe tbody tr th:only-of-type {\n",
       "        vertical-align: middle;\n",
       "    }\n",
       "\n",
       "    .dataframe tbody tr th {\n",
       "        vertical-align: top;\n",
       "    }\n",
       "\n",
       "    .dataframe thead th {\n",
       "        text-align: right;\n",
       "    }\n",
       "</style>\n",
       "<table border=\"1\" class=\"dataframe\">\n",
       "  <thead>\n",
       "    <tr style=\"text-align: right;\">\n",
       "      <th></th>\n",
       "      <th>id</th>\n",
       "      <th>patient_info</th>\n",
       "      <th>clinical_note</th>\n",
       "      <th>questions</th>\n",
       "      <th>summary</th>\n",
       "      <th>classification</th>\n",
       "      <th>sentiment</th>\n",
       "    </tr>\n",
       "  </thead>\n",
       "  <tbody>\n",
       "    <tr>\n",
       "      <th>0</th>\n",
       "      <td>record_10002</td>\n",
       "      <td>{'age': '88', 'gender': 'non-binary', 'visit_d...</td>\n",
       "      <td>{'chief_complaint': 'Patient reports chest pai...</td>\n",
       "      <td>[{'answer': 'Patient reports chest pain.', 'qu...</td>\n",
       "      <td>A 88-year-old non-binary presenting with Patie...</td>\n",
       "      <td>low-risk</td>\n",
       "      <td>neutral</td>\n",
       "    </tr>\n",
       "    <tr>\n",
       "      <th>1</th>\n",
       "      <td>record_10003</td>\n",
       "      <td>{'age': '42', 'gender': 'female', 'visit_date'...</td>\n",
       "      <td>{'chief_complaint': 'Patient reports headache....</td>\n",
       "      <td>[{'answer': 'Patient reports headache.', 'ques...</td>\n",
       "      <td>A 42-year-old female presenting with Patient r...</td>\n",
       "      <td>high-risk</td>\n",
       "      <td>negative</td>\n",
       "    </tr>\n",
       "    <tr>\n",
       "      <th>2</th>\n",
       "      <td>record_10004</td>\n",
       "      <td>{'age': '8', 'gender': 'non-binary', 'visit_da...</td>\n",
       "      <td>{'chief_complaint': 'Patient reports shortness...</td>\n",
       "      <td>[{'answer': 'Patient reports shortness of brea...</td>\n",
       "      <td>A 8-year-old non-binary presenting with Patien...</td>\n",
       "      <td>moderate-risk</td>\n",
       "      <td>positive</td>\n",
       "    </tr>\n",
       "    <tr>\n",
       "      <th>3</th>\n",
       "      <td>record_10005</td>\n",
       "      <td>{'age': '23', 'gender': 'male', 'visit_date': ...</td>\n",
       "      <td>{'chief_complaint': 'Patient reports nausea.',...</td>\n",
       "      <td>[{'answer': 'Patient reports nausea.', 'questi...</td>\n",
       "      <td>A 23-year-old male presenting with Patient rep...</td>\n",
       "      <td>low-risk</td>\n",
       "      <td>positive</td>\n",
       "    </tr>\n",
       "    <tr>\n",
       "      <th>4</th>\n",
       "      <td>record_10006</td>\n",
       "      <td>{'age': '24', 'gender': 'male', 'visit_date': ...</td>\n",
       "      <td>{'chief_complaint': 'Patient reports shortness...</td>\n",
       "      <td>[{'answer': 'Patient reports shortness of brea...</td>\n",
       "      <td>A 24-year-old male presenting with Patient rep...</td>\n",
       "      <td>low-risk</td>\n",
       "      <td>neutral</td>\n",
       "    </tr>\n",
       "  </tbody>\n",
       "</table>\n",
       "</div>"
      ],
      "text/plain": [
       "             id                                       patient_info  \\\n",
       "0  record_10002  {'age': '88', 'gender': 'non-binary', 'visit_d...   \n",
       "1  record_10003  {'age': '42', 'gender': 'female', 'visit_date'...   \n",
       "2  record_10004  {'age': '8', 'gender': 'non-binary', 'visit_da...   \n",
       "3  record_10005  {'age': '23', 'gender': 'male', 'visit_date': ...   \n",
       "4  record_10006  {'age': '24', 'gender': 'male', 'visit_date': ...   \n",
       "\n",
       "                                       clinical_note  \\\n",
       "0  {'chief_complaint': 'Patient reports chest pai...   \n",
       "1  {'chief_complaint': 'Patient reports headache....   \n",
       "2  {'chief_complaint': 'Patient reports shortness...   \n",
       "3  {'chief_complaint': 'Patient reports nausea.',...   \n",
       "4  {'chief_complaint': 'Patient reports shortness...   \n",
       "\n",
       "                                           questions  \\\n",
       "0  [{'answer': 'Patient reports chest pain.', 'qu...   \n",
       "1  [{'answer': 'Patient reports headache.', 'ques...   \n",
       "2  [{'answer': 'Patient reports shortness of brea...   \n",
       "3  [{'answer': 'Patient reports nausea.', 'questi...   \n",
       "4  [{'answer': 'Patient reports shortness of brea...   \n",
       "\n",
       "                                             summary classification sentiment  \n",
       "0  A 88-year-old non-binary presenting with Patie...       low-risk   neutral  \n",
       "1  A 42-year-old female presenting with Patient r...      high-risk  negative  \n",
       "2  A 8-year-old non-binary presenting with Patien...  moderate-risk  positive  \n",
       "3  A 23-year-old male presenting with Patient rep...       low-risk  positive  \n",
       "4  A 24-year-old male presenting with Patient rep...       low-risk   neutral  "
      ]
     },
     "execution_count": 24,
     "metadata": {},
     "output_type": "execute_result"
    }
   ],
   "source": [
    "data.head()"
   ]
  },
  {
   "cell_type": "code",
   "execution_count": 26,
   "metadata": {},
   "outputs": [
    {
     "name": "stdout",
     "output_type": "stream",
     "text": [
      "sentiment\n",
      "negative    0.334313\n",
      "neutral     0.332963\n",
      "positive    0.332723\n",
      "Name: count, dtype: float64\n",
      "classification\n",
      "high-risk        0.333883\n",
      "moderate-risk    0.333223\n",
      "low-risk         0.332893\n",
      "Name: count, dtype: float64\n"
     ]
    }
   ],
   "source": [
    "print((data['sentiment'].value_counts())/data.shape[0])\n",
    "print((data['classification'].value_counts()/data.shape[0]))"
   ]
  },
  {
   "cell_type": "code",
   "execution_count": 45,
   "metadata": {},
   "outputs": [
    {
     "data": {
      "text/plain": [
       "'record_000001'"
      ]
     },
     "execution_count": 45,
     "metadata": {},
     "output_type": "execute_result"
    }
   ],
   "source": [
    "data['id'][0]"
   ]
  },
  {
   "cell_type": "code",
   "execution_count": 44,
   "metadata": {},
   "outputs": [
    {
     "data": {
      "text/plain": [
       "{'age': 67,\n",
       " 'gender': 'male',\n",
       " 'visit_type': 'inpatient',\n",
       " 'visit_date': '2025-01-02T18:29:31'}"
      ]
     },
     "execution_count": 44,
     "metadata": {},
     "output_type": "execute_result"
    }
   ],
   "source": [
    "data['metadata'][0]"
   ]
  },
  {
   "cell_type": "code",
   "execution_count": 46,
   "metadata": {},
   "outputs": [
    {
     "data": {
      "text/plain": [
       "[{'question': \"What are the patient's symptoms?\",\n",
       "  'answer': 'shortness of breath'},\n",
       " {'question': 'What is the diagnosis?', 'answer': 'pneumonia'},\n",
       " {'question': 'What is the treatment plan?',\n",
       "  'answer': 'albuterol nebulization, aspirin'}]"
      ]
     },
     "execution_count": 46,
     "metadata": {},
     "output_type": "execute_result"
    }
   ],
   "source": [
    "data['questions'][0]"
   ]
  },
  {
   "cell_type": "code",
   "execution_count": 27,
   "metadata": {},
   "outputs": [
    {
     "data": {
      "text/plain": [
       "'neutral'"
      ]
     },
     "execution_count": 27,
     "metadata": {},
     "output_type": "execute_result"
    }
   ],
   "source": [
    "data['sentiment'][0]"
   ]
  },
  {
   "cell_type": "code",
   "execution_count": 30,
   "metadata": {},
   "outputs": [
    {
     "name": "stdout",
     "output_type": "stream",
     "text": [
      "A 88-year-old non-binary presenting with Patient reports chest pain.. Diagnosis: COPD. Plan: Administer aspirin and nitroglycerin..\n"
     ]
    }
   ],
   "source": [
    "print(data['summary'][0])"
   ]
  },
  {
   "cell_type": "code",
   "execution_count": 29,
   "metadata": {},
   "outputs": [
    {
     "data": {
      "text/plain": [
       "'A 85-year-old male presenting with Patient reports fatigue.. Diagnosis: migraine. Plan: Start inhaled corticosteroids and bronchodilators..'"
      ]
     },
     "execution_count": 29,
     "metadata": {},
     "output_type": "execute_result"
    }
   ],
   "source": [
    "data['summary'][49]"
   ]
  },
  {
   "cell_type": "code",
   "execution_count": null,
   "metadata": {},
   "outputs": [],
   "source": []
  }
 ],
 "metadata": {
  "kernelspec": {
   "display_name": "venv",
   "language": "python",
   "name": "python3"
  },
  "language_info": {
   "codemirror_mode": {
    "name": "ipython",
    "version": 3
   },
   "file_extension": ".py",
   "mimetype": "text/x-python",
   "name": "python",
   "nbconvert_exporter": "python",
   "pygments_lexer": "ipython3",
   "version": "3.9.6"
  }
 },
 "nbformat": 4,
 "nbformat_minor": 2
}
